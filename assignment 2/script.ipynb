{
 "cells": [
  {
   "cell_type": "code",
   "execution_count": 3,
   "metadata": {},
   "outputs": [],
   "source": [
    "reward = []\n",
    "ave_reward = []\n",
    "step = []\n",
    "with open('./models/pong-random-out.txt','r') as f:\n",
    "    for l in f.readlines():\n",
    "        l = l.split(\":\")\n",
    "        reward.append(l[5].split(\" \")[0])\n",
    "        ave_reward.append(l[7].split(\" \")[0])\n",
    "        step.append(l[11].split(\" \")[0])"
   ]
  },
  {
   "cell_type": "code",
   "execution_count": 4,
   "metadata": {},
   "outputs": [],
   "source": [
    "with open('result-random.csv','w+') as f:\n",
    "    f.write(\"Reward,Average Reward,Steps\\n\")\n",
    "    for i in range(0,len(reward)-1):\n",
    "        f.write(reward[i]+\",\"+ave_reward[i]+\",\"+step[i]+\"\\n\")"
   ]
  }
 ],
 "metadata": {
  "interpreter": {
   "hash": "4ce0e62306dd6a5716965d4519ada776f947e6dfc145b604b11307c10277ef29"
  },
  "kernelspec": {
   "display_name": "Python 3.8.5 64-bit",
   "name": "python3"
  },
  "language_info": {
   "codemirror_mode": {
    "name": "ipython",
    "version": 3
   },
   "file_extension": ".py",
   "mimetype": "text/x-python",
   "name": "python",
   "nbconvert_exporter": "python",
   "pygments_lexer": "ipython3",
   "version": "3.8.5"
  },
  "orig_nbformat": 4
 },
 "nbformat": 4,
 "nbformat_minor": 2
}
